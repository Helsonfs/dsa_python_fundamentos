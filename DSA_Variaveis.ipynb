{
  "nbformat": 4,
  "nbformat_minor": 0,
  "metadata": {
    "anaconda-cloud": {},
    "kernelspec": {
      "display_name": "Python 3",
      "language": "python",
      "name": "python3"
    },
    "language_info": {
      "codemirror_mode": {
        "name": "ipython",
        "version": 3
      },
      "file_extension": ".py",
      "mimetype": "text/x-python",
      "name": "python",
      "nbconvert_exporter": "python",
      "pygments_lexer": "ipython3",
      "version": "3.8.8"
    },
    "colab": {
      "name": "DSA-Variaveis.ipynb",
      "provenance": [],
      "include_colab_link": true
    }
  },
  "cells": [
    {
      "cell_type": "markdown",
      "metadata": {
        "id": "view-in-github",
        "colab_type": "text"
      },
      "source": [
        "<a href=\"https://colab.research.google.com/github/Helsonfs/dsa_python_fundamentos/blob/main/DSA_Variaveis.ipynb\" target=\"_parent\"><img src=\"https://colab.research.google.com/assets/colab-badge.svg\" alt=\"Open In Colab\"/></a>"
      ]
    },
    {
      "cell_type": "markdown",
      "metadata": {
        "id": "4Ej-8F7Mr0pt"
      },
      "source": [
        "# <font color='blue'>Data Science Academy - Python Fundamentos - Capítulo 2</font>\n",
        "\n",
        "## Download: http://github.com/dsacademybr"
      ]
    },
    {
      "cell_type": "code",
      "metadata": {
        "colab": {
          "base_uri": "https://localhost:8080/"
        },
        "id": "0Ecf67hrr0pw",
        "outputId": "4fde8146-1037-4096-cb00-20d5b4c9f9c4"
      },
      "source": [
        "# Versão da Linguagem Python\n",
        "from platform import python_version\n",
        "print('Versão da Linguagem Python Usada Neste Jupyter Notebook:', python_version())"
      ],
      "execution_count": 1,
      "outputs": [
        {
          "output_type": "stream",
          "text": [
            "Versão da Linguagem Python Usada Neste Jupyter Notebook: 3.7.11\n"
          ],
          "name": "stdout"
        }
      ]
    },
    {
      "cell_type": "markdown",
      "metadata": {
        "id": "JhSNttGQr0px"
      },
      "source": [
        "## Variáveis e Operadores "
      ]
    },
    {
      "cell_type": "code",
      "metadata": {
        "id": "e9w88kuRr0py"
      },
      "source": [
        "# Atribuindo o valor 1 à variável var_teste\n",
        "var_teste = 1"
      ],
      "execution_count": 2,
      "outputs": []
    },
    {
      "cell_type": "code",
      "metadata": {
        "colab": {
          "base_uri": "https://localhost:8080/"
        },
        "id": "CO_Lt2har0py",
        "outputId": "7738504a-3998-4468-a699-0e45b0d99c4c"
      },
      "source": [
        "# Imprimindo o valor da variável\n",
        "var_teste"
      ],
      "execution_count": 3,
      "outputs": [
        {
          "output_type": "execute_result",
          "data": {
            "text/plain": [
              "1"
            ]
          },
          "metadata": {
            "tags": []
          },
          "execution_count": 3
        }
      ]
    },
    {
      "cell_type": "code",
      "metadata": {
        "colab": {
          "base_uri": "https://localhost:8080/"
        },
        "id": "iXvwCIxVr0py",
        "outputId": "493433be-be0a-4d72-c4d6-083663c0286c"
      },
      "source": [
        "# Imprimindo o valor da variável\n",
        "print(var_teste)"
      ],
      "execution_count": 4,
      "outputs": [
        {
          "output_type": "stream",
          "text": [
            "1\n"
          ],
          "name": "stdout"
        }
      ]
    },
    {
      "cell_type": "code",
      "metadata": {
        "colab": {
          "base_uri": "https://localhost:8080/",
          "height": 178
        },
        "id": "k3SpjQuWr0pz",
        "outputId": "32e7ba2a-32e4-434e-fd29-3b1c3087ed6e"
      },
      "source": [
        "# Não podemos utilizar uma variável que não foi definida. Veja a mensagem de erro.\n",
        "my_var"
      ],
      "execution_count": 5,
      "outputs": [
        {
          "output_type": "error",
          "ename": "NameError",
          "evalue": "ignored",
          "traceback": [
            "\u001b[0;31m---------------------------------------------------------------------------\u001b[0m",
            "\u001b[0;31mNameError\u001b[0m                                 Traceback (most recent call last)",
            "\u001b[0;32m<ipython-input-5-7f70398ca07b>\u001b[0m in \u001b[0;36m<module>\u001b[0;34m()\u001b[0m\n\u001b[1;32m      1\u001b[0m \u001b[0;31m# Não podemos utilizar uma variável que não foi definida. Veja a mensagem de erro.\u001b[0m\u001b[0;34m\u001b[0m\u001b[0;34m\u001b[0m\u001b[0;34m\u001b[0m\u001b[0m\n\u001b[0;32m----> 2\u001b[0;31m \u001b[0mmy_var\u001b[0m\u001b[0;34m\u001b[0m\u001b[0;34m\u001b[0m\u001b[0m\n\u001b[0m",
            "\u001b[0;31mNameError\u001b[0m: name 'my_var' is not defined"
          ]
        }
      ]
    },
    {
      "cell_type": "code",
      "metadata": {
        "id": "LELZGQH6r0pz"
      },
      "source": [
        "var_teste = 2"
      ],
      "execution_count": 6,
      "outputs": []
    },
    {
      "cell_type": "code",
      "metadata": {
        "colab": {
          "base_uri": "https://localhost:8080/"
        },
        "id": "ZLMZFZrzr0pz",
        "outputId": "4038483a-a2e6-4c87-fd55-d884c7783399"
      },
      "source": [
        "var_teste"
      ],
      "execution_count": 7,
      "outputs": [
        {
          "output_type": "execute_result",
          "data": {
            "text/plain": [
              "2"
            ]
          },
          "metadata": {
            "tags": []
          },
          "execution_count": 7
        }
      ]
    },
    {
      "cell_type": "code",
      "metadata": {
        "colab": {
          "base_uri": "https://localhost:8080/"
        },
        "id": "d81OawZir0pz",
        "outputId": "3384438c-a7b5-411b-8d4e-2491ce4e77f3"
      },
      "source": [
        "type(var_teste)"
      ],
      "execution_count": 8,
      "outputs": [
        {
          "output_type": "execute_result",
          "data": {
            "text/plain": [
              "int"
            ]
          },
          "metadata": {
            "tags": []
          },
          "execution_count": 8
        }
      ]
    },
    {
      "cell_type": "code",
      "metadata": {
        "id": "RhFQ3n_Cr0p0"
      },
      "source": [
        "var_teste = 9.5"
      ],
      "execution_count": 9,
      "outputs": []
    },
    {
      "cell_type": "code",
      "metadata": {
        "colab": {
          "base_uri": "https://localhost:8080/"
        },
        "id": "Dhmdsax1r0p0",
        "outputId": "92bafb66-7a12-4fc5-fe97-77385c14aca9"
      },
      "source": [
        "type(var_teste)"
      ],
      "execution_count": 10,
      "outputs": [
        {
          "output_type": "execute_result",
          "data": {
            "text/plain": [
              "float"
            ]
          },
          "metadata": {
            "tags": []
          },
          "execution_count": 10
        }
      ]
    },
    {
      "cell_type": "code",
      "metadata": {
        "id": "9Y1DOsGNr0p0"
      },
      "source": [
        "x = 1"
      ],
      "execution_count": 11,
      "outputs": []
    },
    {
      "cell_type": "code",
      "metadata": {
        "colab": {
          "base_uri": "https://localhost:8080/"
        },
        "id": "c4Y-19NPr0p1",
        "outputId": "c86d71ce-76e6-4cbb-9295-63c3da819758"
      },
      "source": [
        "x"
      ],
      "execution_count": 12,
      "outputs": [
        {
          "output_type": "execute_result",
          "data": {
            "text/plain": [
              "1"
            ]
          },
          "metadata": {
            "tags": []
          },
          "execution_count": 12
        }
      ]
    },
    {
      "cell_type": "markdown",
      "metadata": {
        "id": "KGW0NESbr0p1"
      },
      "source": [
        "## Declaração Múltipla"
      ]
    },
    {
      "cell_type": "code",
      "metadata": {
        "id": "mRUoNH-Er0p1"
      },
      "source": [
        "pessoa1, pessoa2, pessoa3 = \"Maria\", \"José\", \"Tobias\""
      ],
      "execution_count": 13,
      "outputs": []
    },
    {
      "cell_type": "code",
      "metadata": {
        "colab": {
          "base_uri": "https://localhost:8080/",
          "height": 35
        },
        "id": "_C7EfJzXr0p1",
        "outputId": "855083f7-b566-4566-c4a8-6e6837bcece9"
      },
      "source": [
        "pessoa1"
      ],
      "execution_count": 14,
      "outputs": [
        {
          "output_type": "execute_result",
          "data": {
            "application/vnd.google.colaboratory.intrinsic+json": {
              "type": "string"
            },
            "text/plain": [
              "'Maria'"
            ]
          },
          "metadata": {
            "tags": []
          },
          "execution_count": 14
        }
      ]
    },
    {
      "cell_type": "code",
      "metadata": {
        "colab": {
          "base_uri": "https://localhost:8080/",
          "height": 35
        },
        "id": "lkXRqHaJr0p2",
        "outputId": "b1a3ec34-d3a7-414a-d102-b817bc6d1695"
      },
      "source": [
        "pessoa2"
      ],
      "execution_count": 15,
      "outputs": [
        {
          "output_type": "execute_result",
          "data": {
            "application/vnd.google.colaboratory.intrinsic+json": {
              "type": "string"
            },
            "text/plain": [
              "'José'"
            ]
          },
          "metadata": {
            "tags": []
          },
          "execution_count": 15
        }
      ]
    },
    {
      "cell_type": "code",
      "metadata": {
        "colab": {
          "base_uri": "https://localhost:8080/",
          "height": 35
        },
        "id": "mAdiE8hEr0p2",
        "outputId": "2f8a1501-5b5b-4eec-c70a-c3a0f32520ba"
      },
      "source": [
        "pessoa3"
      ],
      "execution_count": 16,
      "outputs": [
        {
          "output_type": "execute_result",
          "data": {
            "application/vnd.google.colaboratory.intrinsic+json": {
              "type": "string"
            },
            "text/plain": [
              "'Tobias'"
            ]
          },
          "metadata": {
            "tags": []
          },
          "execution_count": 16
        }
      ]
    },
    {
      "cell_type": "code",
      "metadata": {
        "id": "hHMKxLfFr0p2"
      },
      "source": [
        "fruta1 = fruta2 = fruta3 = \"Laranja\""
      ],
      "execution_count": 17,
      "outputs": []
    },
    {
      "cell_type": "code",
      "metadata": {
        "colab": {
          "base_uri": "https://localhost:8080/",
          "height": 35
        },
        "id": "fEBHHwb6r0p3",
        "outputId": "828d6026-f009-4b66-c7dc-33c7795209d6"
      },
      "source": [
        "fruta1"
      ],
      "execution_count": 18,
      "outputs": [
        {
          "output_type": "execute_result",
          "data": {
            "application/vnd.google.colaboratory.intrinsic+json": {
              "type": "string"
            },
            "text/plain": [
              "'Laranja'"
            ]
          },
          "metadata": {
            "tags": []
          },
          "execution_count": 18
        }
      ]
    },
    {
      "cell_type": "code",
      "metadata": {
        "colab": {
          "base_uri": "https://localhost:8080/",
          "height": 35
        },
        "id": "TW2I63-ir0p3",
        "outputId": "4138eef6-63ac-4a30-9130-16105038fa88"
      },
      "source": [
        "fruta2"
      ],
      "execution_count": 19,
      "outputs": [
        {
          "output_type": "execute_result",
          "data": {
            "application/vnd.google.colaboratory.intrinsic+json": {
              "type": "string"
            },
            "text/plain": [
              "'Laranja'"
            ]
          },
          "metadata": {
            "tags": []
          },
          "execution_count": 19
        }
      ]
    },
    {
      "cell_type": "code",
      "metadata": {
        "colab": {
          "base_uri": "https://localhost:8080/",
          "height": 195
        },
        "id": "GYqzT6GRr0p3",
        "outputId": "e00644a6-7b6a-4bc6-f39f-3b1581fed433"
      },
      "source": [
        "# Fique atento!!! Python é case-sensitive. Criamos a variável fruta2, mas não a variável Fruta2.\n",
        "# Letras maiúsculas e minúsculas tem diferença no nome da variável.\n",
        "Fruta2"
      ],
      "execution_count": 20,
      "outputs": [
        {
          "output_type": "error",
          "ename": "NameError",
          "evalue": "ignored",
          "traceback": [
            "\u001b[0;31m---------------------------------------------------------------------------\u001b[0m",
            "\u001b[0;31mNameError\u001b[0m                                 Traceback (most recent call last)",
            "\u001b[0;32m<ipython-input-20-064185b35816>\u001b[0m in \u001b[0;36m<module>\u001b[0;34m()\u001b[0m\n\u001b[1;32m      1\u001b[0m \u001b[0;31m# Fique atento!!! Python é case-sensitive. Criamos a variável fruta2, mas não a variável Fruta2.\u001b[0m\u001b[0;34m\u001b[0m\u001b[0;34m\u001b[0m\u001b[0;34m\u001b[0m\u001b[0m\n\u001b[1;32m      2\u001b[0m \u001b[0;31m# Letras maiúsculas e minúsculas tem diferença no nome da variável.\u001b[0m\u001b[0;34m\u001b[0m\u001b[0;34m\u001b[0m\u001b[0;34m\u001b[0m\u001b[0m\n\u001b[0;32m----> 3\u001b[0;31m \u001b[0mFruta2\u001b[0m\u001b[0;34m\u001b[0m\u001b[0;34m\u001b[0m\u001b[0m\n\u001b[0m",
            "\u001b[0;31mNameError\u001b[0m: name 'Fruta2' is not defined"
          ]
        }
      ]
    },
    {
      "cell_type": "markdown",
      "metadata": {
        "id": "Wk02KDoor0p4"
      },
      "source": [
        "## Pode-se usar letras, números e underline (mas não se pode começar com números)"
      ]
    },
    {
      "cell_type": "code",
      "metadata": {
        "id": "vpbViu9Hr0p4"
      },
      "source": [
        "x1 = 50"
      ],
      "execution_count": 21,
      "outputs": []
    },
    {
      "cell_type": "code",
      "metadata": {
        "colab": {
          "base_uri": "https://localhost:8080/"
        },
        "id": "9Quai0uPr0p4",
        "outputId": "812c1c70-c878-4665-d14e-dea585fc4c2c"
      },
      "source": [
        "x1"
      ],
      "execution_count": 22,
      "outputs": [
        {
          "output_type": "execute_result",
          "data": {
            "text/plain": [
              "50"
            ]
          },
          "metadata": {
            "tags": []
          },
          "execution_count": 22
        }
      ]
    },
    {
      "cell_type": "code",
      "metadata": {
        "colab": {
          "base_uri": "https://localhost:8080/",
          "height": 128
        },
        "id": "wLqRIT06r0p4",
        "outputId": "693c1d26-35a3-49e5-93e6-110c16227566"
      },
      "source": [
        "# Mensagem de erro, pois o Python não permite nomes de variáveis que iniciem com números\n",
        "1x = 50"
      ],
      "execution_count": 23,
      "outputs": [
        {
          "output_type": "error",
          "ename": "SyntaxError",
          "evalue": "ignored",
          "traceback": [
            "\u001b[0;36m  File \u001b[0;32m\"<ipython-input-23-33a7c2a39e57>\"\u001b[0;36m, line \u001b[0;32m2\u001b[0m\n\u001b[0;31m    1x = 50\u001b[0m\n\u001b[0m     ^\u001b[0m\n\u001b[0;31mSyntaxError\u001b[0m\u001b[0;31m:\u001b[0m invalid syntax\n"
          ]
        }
      ]
    },
    {
      "cell_type": "markdown",
      "metadata": {
        "id": "WeeJqBzMr0p5"
      },
      "source": [
        "## Não se pode usar palavras reservadas como nome de variável\n",
        "\n",
        "## False      \n",
        "## class      \n",
        "## finally    \n",
        "## is         \n",
        "## return\n",
        "## None       \n",
        "## continue   \n",
        "## for        \n",
        "## lambda     \n",
        "## try\n",
        "## True       \n",
        "## def        \n",
        "## from       \n",
        "## nonlocal   \n",
        "## while\n",
        "## and        \n",
        "## del        \n",
        "## global     \n",
        "## not        \n",
        "## with\n",
        "## as         \n",
        "## elif       \n",
        "## if         \n",
        "## or         \n",
        "## yield\n",
        "## assert     \n",
        "## else       \n",
        "## import     \n",
        "## pass\n",
        "## break      \n",
        "## except     \n",
        "## in         \n",
        "## raise"
      ]
    },
    {
      "cell_type": "code",
      "metadata": {
        "colab": {
          "base_uri": "https://localhost:8080/",
          "height": 128
        },
        "id": "h9vP8M13r0p5",
        "outputId": "4269ac54-592f-4f76-fdaa-00e56d319be3"
      },
      "source": [
        "# Não podemos usar palavras reservadas como nome de variável\n",
        "break = 1"
      ],
      "execution_count": 24,
      "outputs": [
        {
          "output_type": "error",
          "ename": "SyntaxError",
          "evalue": "ignored",
          "traceback": [
            "\u001b[0;36m  File \u001b[0;32m\"<ipython-input-24-e88ee5721a0c>\"\u001b[0;36m, line \u001b[0;32m2\u001b[0m\n\u001b[0;31m    break = 1\u001b[0m\n\u001b[0m          ^\u001b[0m\n\u001b[0;31mSyntaxError\u001b[0m\u001b[0;31m:\u001b[0m invalid syntax\n"
          ]
        }
      ]
    },
    {
      "cell_type": "markdown",
      "metadata": {
        "id": "L41crkFyr0p5"
      },
      "source": [
        "## Variáveis atribuídas a outras variáveis e ordem dos operadores"
      ]
    },
    {
      "cell_type": "code",
      "metadata": {
        "id": "6RvaH5AIr0p5"
      },
      "source": [
        "largura = 2"
      ],
      "execution_count": 25,
      "outputs": []
    },
    {
      "cell_type": "code",
      "metadata": {
        "id": "2vRb_ZLPr0p6"
      },
      "source": [
        "altura = 4"
      ],
      "execution_count": 26,
      "outputs": []
    },
    {
      "cell_type": "code",
      "metadata": {
        "id": "bisO5q2Dr0p6"
      },
      "source": [
        "area = largura * altura"
      ],
      "execution_count": 27,
      "outputs": []
    },
    {
      "cell_type": "code",
      "metadata": {
        "colab": {
          "base_uri": "https://localhost:8080/"
        },
        "id": "PVtswLf6r0p8",
        "outputId": "5b59d769-2b3d-4bd6-dc0a-2971ba151a93"
      },
      "source": [
        "area"
      ],
      "execution_count": 28,
      "outputs": [
        {
          "output_type": "execute_result",
          "data": {
            "text/plain": [
              "8"
            ]
          },
          "metadata": {
            "tags": []
          },
          "execution_count": 28
        }
      ]
    },
    {
      "cell_type": "code",
      "metadata": {
        "id": "A8w18XTdr0p8"
      },
      "source": [
        "perimetro = 2 * largura + 2 * altura"
      ],
      "execution_count": 29,
      "outputs": []
    },
    {
      "cell_type": "code",
      "metadata": {
        "colab": {
          "base_uri": "https://localhost:8080/"
        },
        "id": "TWUgXW5Yr0p9",
        "outputId": "38fb1c80-740b-4c98-f59e-a114da0bcabf"
      },
      "source": [
        "perimetro"
      ],
      "execution_count": 30,
      "outputs": [
        {
          "output_type": "execute_result",
          "data": {
            "text/plain": [
              "12"
            ]
          },
          "metadata": {
            "tags": []
          },
          "execution_count": 30
        }
      ]
    },
    {
      "cell_type": "code",
      "metadata": {
        "id": "2vxVtKUcr0p9"
      },
      "source": [
        "# A ordem dos operadores é a mesma seguida na Matemática\n",
        "perimetro = 2 * (largura + 2)  * altura"
      ],
      "execution_count": 31,
      "outputs": []
    },
    {
      "cell_type": "code",
      "metadata": {
        "colab": {
          "base_uri": "https://localhost:8080/"
        },
        "id": "_LsB8Kigr0p-",
        "outputId": "214e13a8-975b-4c6e-a22c-a2bd794aebdc"
      },
      "source": [
        "perimetro"
      ],
      "execution_count": 32,
      "outputs": [
        {
          "output_type": "execute_result",
          "data": {
            "text/plain": [
              "32"
            ]
          },
          "metadata": {
            "tags": []
          },
          "execution_count": 32
        }
      ]
    },
    {
      "cell_type": "markdown",
      "metadata": {
        "id": "FxCH4WeNr0p-"
      },
      "source": [
        "## Operações com variáveis"
      ]
    },
    {
      "cell_type": "code",
      "metadata": {
        "id": "2Tngglmyr0p-"
      },
      "source": [
        "idade1 = 25"
      ],
      "execution_count": 33,
      "outputs": []
    },
    {
      "cell_type": "code",
      "metadata": {
        "id": "TS7nDSfAr0p_"
      },
      "source": [
        "idade2 = 35"
      ],
      "execution_count": 34,
      "outputs": []
    },
    {
      "cell_type": "code",
      "metadata": {
        "colab": {
          "base_uri": "https://localhost:8080/"
        },
        "id": "yRDl9TLsr0p_",
        "outputId": "84b712ea-c09d-4502-c8e2-7097d7dd1f34"
      },
      "source": [
        "idade1 + idade2"
      ],
      "execution_count": 35,
      "outputs": [
        {
          "output_type": "execute_result",
          "data": {
            "text/plain": [
              "60"
            ]
          },
          "metadata": {
            "tags": []
          },
          "execution_count": 35
        }
      ]
    },
    {
      "cell_type": "code",
      "metadata": {
        "colab": {
          "base_uri": "https://localhost:8080/"
        },
        "id": "LE8SsLPGr0qA",
        "outputId": "f548cf8c-11f5-4f4a-f138-d442029046c2"
      },
      "source": [
        "idade2 - idade1"
      ],
      "execution_count": 36,
      "outputs": [
        {
          "output_type": "execute_result",
          "data": {
            "text/plain": [
              "10"
            ]
          },
          "metadata": {
            "tags": []
          },
          "execution_count": 36
        }
      ]
    },
    {
      "cell_type": "code",
      "metadata": {
        "colab": {
          "base_uri": "https://localhost:8080/"
        },
        "id": "iGzBFcYsr0qB",
        "outputId": "10493678-ed1b-486a-aa08-22861f0d51d8"
      },
      "source": [
        "idade2 * idade1"
      ],
      "execution_count": 37,
      "outputs": [
        {
          "output_type": "execute_result",
          "data": {
            "text/plain": [
              "875"
            ]
          },
          "metadata": {
            "tags": []
          },
          "execution_count": 37
        }
      ]
    },
    {
      "cell_type": "code",
      "metadata": {
        "colab": {
          "base_uri": "https://localhost:8080/"
        },
        "id": "IeuD6Xdkr0qB",
        "outputId": "ec1eb90f-c3ed-4a1b-e617-378dc8535143"
      },
      "source": [
        "idade2 / idade1"
      ],
      "execution_count": 38,
      "outputs": [
        {
          "output_type": "execute_result",
          "data": {
            "text/plain": [
              "1.4"
            ]
          },
          "metadata": {
            "tags": []
          },
          "execution_count": 38
        }
      ]
    },
    {
      "cell_type": "code",
      "metadata": {
        "colab": {
          "base_uri": "https://localhost:8080/"
        },
        "id": "9auHf31jr0qB",
        "outputId": "769a665e-30ec-4cac-d327-d3b7d5a96e81"
      },
      "source": [
        "idade2 % idade1"
      ],
      "execution_count": 39,
      "outputs": [
        {
          "output_type": "execute_result",
          "data": {
            "text/plain": [
              "10"
            ]
          },
          "metadata": {
            "tags": []
          },
          "execution_count": 39
        }
      ]
    },
    {
      "cell_type": "markdown",
      "metadata": {
        "id": "U_s_cu80r0qC"
      },
      "source": [
        "## Concatenação de Variáveis"
      ]
    },
    {
      "cell_type": "code",
      "metadata": {
        "id": "Uy0sOrdOr0qC"
      },
      "source": [
        "nome = \"Steve\""
      ],
      "execution_count": 40,
      "outputs": []
    },
    {
      "cell_type": "code",
      "metadata": {
        "id": "3zFaMmoyr0qC"
      },
      "source": [
        "sobrenome = \"Jobs\""
      ],
      "execution_count": 41,
      "outputs": []
    },
    {
      "cell_type": "code",
      "metadata": {
        "id": "D4iNN5QMr0qC"
      },
      "source": [
        "fullName = nome + \" \" + sobrenome"
      ],
      "execution_count": 42,
      "outputs": []
    },
    {
      "cell_type": "code",
      "metadata": {
        "colab": {
          "base_uri": "https://localhost:8080/",
          "height": 35
        },
        "id": "VSC9Vsuwr0qD",
        "outputId": "9a576776-be70-4381-bd50-90790dccc1df"
      },
      "source": [
        "fullName"
      ],
      "execution_count": 43,
      "outputs": [
        {
          "output_type": "execute_result",
          "data": {
            "application/vnd.google.colaboratory.intrinsic+json": {
              "type": "string"
            },
            "text/plain": [
              "'Steve Jobs'"
            ]
          },
          "metadata": {
            "tags": []
          },
          "execution_count": 43
        }
      ]
    },
    {
      "cell_type": "markdown",
      "metadata": {
        "id": "9X46VQsnr0qD"
      },
      "source": [
        "# Fim"
      ]
    },
    {
      "cell_type": "markdown",
      "metadata": {
        "id": "W7ZA4TfWr0qD"
      },
      "source": [
        "### Obrigado\n",
        "\n",
        "### Visite o Blog da Data Science Academy - <a href=\"http://blog.dsacademy.com.br\">Blog DSA</a>"
      ]
    }
  ]
}